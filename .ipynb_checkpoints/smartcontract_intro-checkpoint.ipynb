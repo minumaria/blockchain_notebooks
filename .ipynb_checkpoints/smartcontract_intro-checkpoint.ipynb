{
 "cells": [
  {
   "cell_type": "markdown",
   "metadata": {},
   "source": [
    "## Smart Contract 1"
   ]
  },
  {
   "cell_type": "code",
   "execution_count": null,
   "metadata": {},
   "outputs": [],
   "source": [
    "pragma solidity ^0.4.24;\n",
    "\n",
    "contract StoreContract {\n",
    "    string value;\n",
    "    \n",
    "    function get() public view returns(string) {\n",
    "        return value;\n",
    "    }\n",
    "    \n",
    "    function set(string _value) public {\n",
    "        value = _value;\n",
    "    }\n",
    "    \n",
    "    constructor() public {\n",
    "        value = \"Blockchain Rookie\";\n",
    "    }\n",
    "}"
   ]
  },
  {
   "cell_type": "markdown",
   "metadata": {},
   "source": [
    "## Smart Contract 2"
   ]
  },
  {
   "cell_type": "code",
   "execution_count": null,
   "metadata": {},
   "outputs": [],
   "source": [
    "pragma solidity ^0.5.1;\n",
    "\n",
    "contract StoreNewContract {\n",
    "    string value;\n",
    "    \n",
    "    function get() public view returns(string memory) {\n",
    "        return value;\n",
    "    }\n",
    "    \n",
    "    function set(string memory _value) public {\n",
    "        value = _value;\n",
    "    }\n",
    "    \n",
    "    constructor() public {\n",
    "        value = \"Blockchain Rookie\";\n",
    "    }\n",
    "}"
   ]
  },
  {
   "cell_type": "markdown",
   "metadata": {},
   "source": [
    "## Smart Contract 3"
   ]
  },
  {
   "cell_type": "code",
   "execution_count": null,
   "metadata": {},
   "outputs": [],
   "source": [
    "pragma solidity ^0.5.1;\n",
    "\n",
    "contract StoreNewFinalContract {\n",
    "    string public value = \"Blockchain Rookie\";\n",
    "    \n",
    "    function set(string memory _value) public {\n",
    "        value = _value;\n",
    "    }\n",
    "    \n",
    "}"
   ]
  }
 ],
 "metadata": {
  "kernelspec": {
   "display_name": "Python 3",
   "language": "python",
   "name": "python3"
  },
  "language_info": {
   "codemirror_mode": {
    "name": "ipython",
    "version": 3
   },
   "file_extension": ".py",
   "mimetype": "text/x-python",
   "name": "python",
   "nbconvert_exporter": "python",
   "pygments_lexer": "ipython3",
   "version": "3.6.9"
  }
 },
 "nbformat": 4,
 "nbformat_minor": 2
}
