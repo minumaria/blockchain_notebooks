{
 "cells": [
  {
   "cell_type": "markdown",
   "metadata": {},
   "source": [
    "# Setting up a Private Blokchain network using go-ethereum\n",
    "\n",
    "### CMD/Terminal 1\n",
    "\n",
    "> mkdir geth-test\n",
    "<br>\n",
    "> cd geth-test\n",
    "\n",
    "Create a genesis.json file inside the geth-test directory"
   ]
  },
  {
   "cell_type": "code",
   "execution_count": null,
   "metadata": {},
   "outputs": [],
   "source": [
    "{\n",
    "  \"config\": {\n",
    "        \"chainId\": 9876,\n",
    "        \"homesteadBlock\": 0,\n",
    "        \"eip150Block\": 0,\n",
    "        \"eip155Block\": 0,\n",
    "        \"eip158Block\": 0\n",
    "    },\n",
    "  \"nonce\": \"0x0000000000000042\",\n",
    "  \"mixhash\": \"0x0000000000000000000000000000000000000000000000000000000000000000\",\n",
    "  \"coinbase\": \"0x0000000000000000000000000000000000000000\",\n",
    "  \"alloc\"      : {},\n",
    "  \"difficulty\" : \"0x20000\",\n",
    "  \"extraData\"  : \"0x\",\n",
    "  \"gasLimit\"   : \"0xffffffff\",\n",
    "  \"parentHash\" : \"0x0000000000000000000000000000000000000000000000000000000000000000\",\n",
    "  \"timestamp\"  : \"0x0\"\n",
    "}"
   ]
  },
  {
   "cell_type": "markdown",
   "metadata": {},
   "source": [
    "Initialize the private blockchain node with Genesis Block\n",
    "\n",
    "> geth --datadir \"./db\" init genesis.json\n",
    "\n",
    "Start the Ethereum node\n",
    "\n",
    "> geth --datadir \"./data\" --networkid 123456 --rpc --rpcport \"8545\" --rpccorsdomain \"*\" --nodiscover --rpcapi=\"admin,db,eth,net,web3,personal,miner,txpool,debug\" --allow-insecure-unlock"
   ]
  },
  {
   "cell_type": "markdown",
   "metadata": {},
   "source": [
    "### CMD/Terminal 2\n",
    "\n",
    "Start the console\n",
    "\n",
    "> geth attach http://127.0.0.1:8545\n",
    "\n",
    "Check node information\n",
    "\n",
    "> admin.nodeInfo\n",
    "\n",
    "Create a new Account\n",
    "\n",
    "> personal.newAccount()\n",
    "\n",
    "Check accounts\n",
    "\n",
    "> eth.accounts\n",
    "> eth.accounts[0]\n",
    "\n",
    "Check Balance\n",
    "\n",
    "> eth.getBalance(eth.accounts[0])"
   ]
  },
  {
   "cell_type": "markdown",
   "metadata": {},
   "source": [
    "### Mining\n",
    "\n",
    "> eth.coinbase\n",
    "> miner.setEtherbase(web3.eth.accounts[0])\n",
    "\n",
    "Start mining\n",
    "\n",
    "> miner.start(1)\n",
    "> miner.stop()\n",
    "\n",
    "Check balance again\n",
    "\n",
    "> eth.getBalance(eth.accounts[0])"
   ]
  },
  {
   "cell_type": "markdown",
   "metadata": {},
   "source": [
    "### Transaction\n",
    "\n",
    "> personal.unlockAccount(\"eth.accounts[0]\")\n",
    "<br><br>\n",
    "> eth.sendTransaction({from: eth.accounts[0], to: eth.accounts[1], value: web3.toWei(1, \"ether\")})\n",
    "\n",
    "Check transaction pool\n",
    "\n",
    "> txpool.status\n",
    "\n",
    "> miner.start(1)\n",
    "<br>\n",
    "> miner.stop()\n",
    "\n",
    "Check balance again in both the accounts"
   ]
  },
  {
   "cell_type": "code",
   "execution_count": null,
   "metadata": {},
   "outputs": [],
   "source": []
  }
 ],
 "metadata": {
  "kernelspec": {
   "display_name": "Python 3",
   "language": "python",
   "name": "python3"
  },
  "language_info": {
   "codemirror_mode": {
    "name": "ipython",
    "version": 3
   },
   "file_extension": ".py",
   "mimetype": "text/x-python",
   "name": "python",
   "nbconvert_exporter": "python",
   "pygments_lexer": "ipython3",
   "version": "3.6.9"
  }
 },
 "nbformat": 4,
 "nbformat_minor": 2
}
