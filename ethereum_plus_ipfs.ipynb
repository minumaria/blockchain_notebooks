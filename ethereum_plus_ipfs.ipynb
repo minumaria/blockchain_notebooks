{
 "cells": [
  {
   "cell_type": "markdown",
   "metadata": {},
   "source": [
    "# Ethereum + IPFS + React.JS\n",
    "\n",
    "### Setting up the environment\n",
    "\n",
    "> sudo npm install -g create-react-app <br>\n",
    "> create-react-app eth-ipfs <br>\n",
    "> cd ./eth-ipfs <br>\n",
    "> npm install react-bootstrap <br>\n",
    "> npm install fs-extra <br>\n",
    "> npm install ipfs-api <br>\n",
    "> npm install web3@^1.0.0-beta.26 <br>\n",
    "\n",
    "### Visit https://metamask.io/ and install for your browser\n",
    "\n",
    "### Get free ethers from https://www.rinkeby.io/#faucet\n",
    "\n",
    "### Visit https://remix.ethereum.org and run the below Solidity contract\n",
    "\n",
    "pragma solidity ^0.4.17;\n",
    "\n",
    "contract Contract {\n",
    "    string ipfsHash;\n",
    " \n",
    " function sendHash(string x) public {\n",
    "   ipfsHash = x;\n",
    " }\n",
    "\n",
    " function getHash() public view returns (string x) {\n",
    "   return ipfsHash;\n",
    " }\n",
    "\n",
    "}\n",
    "\n",
    "#### Compile the code and copy ABI from details\n",
    "\n",
    "#### update the ABI details and contract address in storehash.js\n",
    "\n",
    "Clone Dapp from here: https://github.com/opencubelabs/eth-ipfs\n",
    "\n",
    "> cd eth-ipfs && npm start"
   ]
  },
  {
   "cell_type": "code",
   "execution_count": null,
   "metadata": {},
   "outputs": [],
   "source": []
  }
 ],
 "metadata": {
  "kernelspec": {
   "display_name": "Python 2",
   "language": "python",
   "name": "python2"
  },
  "language_info": {
   "codemirror_mode": {
    "name": "ipython",
    "version": 2
   },
   "file_extension": ".py",
   "mimetype": "text/x-python",
   "name": "python",
   "nbconvert_exporter": "python",
   "pygments_lexer": "ipython2",
   "version": "2.7.12"
  }
 },
 "nbformat": 4,
 "nbformat_minor": 2
}
